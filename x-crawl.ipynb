{
 "cells": [
  {
   "cell_type": "code",
   "execution_count": 47,
   "metadata": {},
   "outputs": [
    {
     "name": "stderr",
     "output_type": "stream",
     "text": [
      "[nltk_data] Downloading package punkt_tab to\n",
      "[nltk_data]     C:\\Users\\bilva\\AppData\\Roaming\\nltk_data...\n",
      "[nltk_data]   Package punkt_tab is already up-to-date!\n"
     ]
    },
    {
     "data": {
      "text/plain": [
       "True"
      ]
     },
     "execution_count": 47,
     "metadata": {},
     "output_type": "execute_result"
    }
   ],
   "source": [
    "import re\n",
    "import nltk\n",
    "import tweepy\n",
    "import pandas as pd\n",
    "import seaborn as sns\n",
    "\n",
    "from textblob import TextBlob\n",
    "from translate import Translator\n",
    "from nltk.tokenize import word_tokenize\n",
    "from textblob.classifiers import NaiveBayesClassifier\n",
    "from Sastrawi.Stemmer.StemmerFactory import StemmerFactory\n",
    "from Sastrawi.StopWordRemover.StopWordRemoverFactory import StopWordRemoverFactory\n",
    "\n",
    "nltk.download('punkt_tab')"
   ]
  },
  {
   "cell_type": "code",
   "execution_count": 2,
   "metadata": {},
   "outputs": [],
   "source": [
    "bearer = \"AAAAAAAAAAAAAAAAAAAAAK7DWgEAAAAAi7d0%2FnUXa55nietE%2BPkTa%2BGABHU%3DZDewMVcDnvjd0A01ZUWSYg9fhZlsiSLKN2XcX5RJ6C1bB1cZGn\"\n",
    "consumer_key = \"a6qFeda7ma8e2kA0drlgpJqNJ\"\n",
    "consumer_secret = \"ixrUzR5mbvj6ZbkvWAvhJid8uXNjRge40b6rWlqdcwMl4e3HTo\" \n",
    "access_token = \"1468548120808398850-Ka8T3Kg1GhRDTWvMa09Evq713lR2sF\"\n",
    "access_token_secret = \"7U7XyOLrxRMugWvh3okIacE5fiCSaUFPOJBmz5tLzCwJc\""
   ]
  },
  {
   "cell_type": "code",
   "execution_count": 3,
   "metadata": {},
   "outputs": [],
   "source": [
    "# Autentikasi\n",
    "client = tweepy.Client(bearer_token=bearer, consumer_key=consumer_key, consumer_secret=consumer_secret, access_token=access_token, access_token_secret=access_token_secret)\n",
    "result = client.search_recent_tweets(\"kualitas pendidikan\", max_results=50)"
   ]
  },
  {
   "cell_type": "code",
   "execution_count": 7,
   "metadata": {},
   "outputs": [],
   "source": [
    "# Data Preprocessing\n",
    "\n",
    "def preprocess_text(text):\n",
    "    # create stopword factory and stemmer factory\n",
    "    stopword = StopWordRemoverFactory().create_stop_word_remover()\n",
    "    stemmer = StemmerFactory().create_stemmer()\n",
    "    # convert to lower case\n",
    "    text = text.lower()\n",
    "    # remove user handle\n",
    "    text = re.sub(\"@[\\w]*\", \"\", text)\n",
    "    # remove http links\n",
    "    text = re.sub(\"http\\S+\", \"\", text)\n",
    "    # remove digits and spl characters\n",
    "    text = re.sub(\"[^a-zA-Z#0-9]\", \" \", text)\n",
    "    # remove additional spaces\n",
    "    text = re.sub(\"\\s+\", \" \", text)\n",
    "    text = stopword.remove(text)\n",
    "    text = stemmer.stem(text)\n",
    "    \n",
    "    return text\n",
    "\n",
    "def convert_eng(tweet):\n",
    "    translator = Translator(to_lang='en', from_lang='id')\n",
    "    translation = translator.translate(tweet)\n",
    "    return translation"
   ]
  },
  {
   "cell_type": "code",
   "execution_count": 5,
   "metadata": {},
   "outputs": [],
   "source": [
    "sentiment_data_all = result.data\n",
    "final_data = []\n",
    "sent_df = pd.DataFrame()\n",
    "for sent_data  in sentiment_data_all:\n",
    "    final_data.append(preprocess_text(sent_data.text))\n",
    "sent_df['data_text'] = final_data\n",
    "data_sent = list(sent_df['data_text'].apply(convert_eng))"
   ]
  },
  {
   "cell_type": "code",
   "execution_count": 9,
   "metadata": {},
   "outputs": [
    {
     "name": "stdout",
     "output_type": "stream",
     "text": [
      "Positive: 28\n",
      "Negative: 14\n",
      "Netral: 8\n"
     ]
    }
   ],
   "source": [
    "polarization = 0\n",
    "\n",
    "status = []\n",
    "positive_tot = negative_tot = netral_tot = total = 0\n",
    "\n",
    "for text in data_sent:\n",
    "    analysis = TextBlob(text)\n",
    "    polarization += analysis.polarity\n",
    "    \n",
    "    if analysis.sentiment.polarity > 0.0:\n",
    "        positive_tot += 1\n",
    "        status.append('Positive')\n",
    "    elif analysis.sentiment.polarity == 0.0:\n",
    "        netral_tot += 1\n",
    "        status.append('Netral')\n",
    "    else:\n",
    "        negative_tot += 1\n",
    "        status.append('Negative')\n",
    "    total += 1\n",
    "\n",
    "print(f\"Positive: {positive_tot}\\nNegative: {negative_tot}\\nNetral: {netral_tot}\")"
   ]
  },
  {
   "cell_type": "code",
   "execution_count": 12,
   "metadata": {},
   "outputs": [],
   "source": [
    "sent_df['eng_data'] = data_sent\n",
    "sent_df['blob'] = status"
   ]
  },
  {
   "cell_type": "code",
   "execution_count": 1,
   "metadata": {},
   "outputs": [
    {
     "ename": "NameError",
     "evalue": "name 'sent_df' is not defined",
     "output_type": "error",
     "traceback": [
      "\u001b[1;31m---------------------------------------------------------------------------\u001b[0m",
      "\u001b[1;31mNameError\u001b[0m                                 Traceback (most recent call last)",
      "Cell \u001b[1;32mIn[1], line 1\u001b[0m\n\u001b[1;32m----> 1\u001b[0m \u001b[43msent_df\u001b[49m\n",
      "\u001b[1;31mNameError\u001b[0m: name 'sent_df' is not defined"
     ]
    }
   ],
   "source": [
    "sent_df"
   ]
  },
  {
   "cell_type": "code",
   "execution_count": 14,
   "metadata": {},
   "outputs": [],
   "source": [
    "dataset = sent_df.drop(['data_text'], axis=1, inplace=False)\n",
    "dataset = [tuple(x) for x in dataset.to_records(index=False)]"
   ]
  },
  {
   "cell_type": "code",
   "execution_count": 26,
   "metadata": {},
   "outputs": [
    {
     "data": {
      "text/plain": [
       "50"
      ]
     },
     "execution_count": 26,
     "metadata": {},
     "output_type": "execute_result"
    }
   ],
   "source": [
    "len(dataset)"
   ]
  },
  {
   "cell_type": "code",
   "execution_count": 18,
   "metadata": {},
   "outputs": [],
   "source": [
    "import random\n",
    "\n",
    "set_positif = []\n",
    "set_negatif = []\n",
    "set_netral = []\n",
    "\n",
    "for n in dataset:\n",
    "    if(n[1] == 'Positive'):\n",
    "      set_positif.append(n)\n",
    "    elif(n[1] == 'Negative'):\n",
    "      set_negatif.append(n)\n",
    "    else:\n",
    "      set_netral.append(n)\n",
    "\n",
    "set_positif = random.sample(set_positif, k=int(len(set_positif)/2))\n",
    "set_negatif = random.sample(set_negatif, k=int(len(set_negatif)/2))\n",
    "set_netral = random.sample(set_netral, k=int(len(set_netral)/2))\n",
    "\n",
    "train = set_positif + set_negatif + set_netral\n",
    "\n",
    "train_set = []\n",
    "\n",
    "for n in train:\n",
    "     train_set.append(n)"
   ]
  },
  {
   "cell_type": "code",
   "execution_count": 29,
   "metadata": {},
   "outputs": [
    {
     "data": {
      "text/plain": [
       "7"
      ]
     },
     "execution_count": 29,
     "metadata": {},
     "output_type": "execute_result"
    }
   ],
   "source": [
    "len(set_negatif)"
   ]
  },
  {
   "cell_type": "code",
   "execution_count": 34,
   "metadata": {},
   "outputs": [
    {
     "name": "stdout",
     "output_type": "stream",
     "text": [
      "Akurasi Test:  0.86\n"
     ]
    }
   ],
   "source": [
    "cl = NaiveBayesClassifier(train_set)\n",
    "print(\"Akurasi Test: \", cl.accuracy(dataset))"
   ]
  },
  {
   "cell_type": "code",
   "execution_count": 44,
   "metadata": {},
   "outputs": [
    {
     "name": "stdout",
     "output_type": "stream",
     "text": [
      "Positive: 28\n",
      "Negative: 14\n",
      "Netral: 8\n"
     ]
    }
   ],
   "source": [
    "polarization = 0\n",
    "\n",
    "status_nb = []\n",
    "positive_tot = negative_tot = netral_tot = total = 0\n",
    "\n",
    "for text in data_sent:\n",
    "    analysis = TextBlob(text, classifier=cl)\n",
    "    polarization += analysis.polarity\n",
    "    \n",
    "    if analysis.sentiment.polarity > 0.0:\n",
    "        positive_tot += 1\n",
    "        status_nb.append('Positive')\n",
    "    elif analysis.sentiment.polarity == 0.0:\n",
    "        netral_tot += 1\n",
    "        status_nb.append('Netral')\n",
    "    else:\n",
    "        negative_tot += 1\n",
    "        status_nb.append('Negative')\n",
    "    total += 1\n",
    "\n",
    "print(f\"Positive: {positive_tot}\\nNegative: {negative_tot}\\nNetral: {netral_tot}\")"
   ]
  },
  {
   "cell_type": "code",
   "execution_count": 45,
   "metadata": {},
   "outputs": [],
   "source": [
    "sent_df['naive_bayes_cl'] = status_nb"
   ]
  },
  {
   "cell_type": "code",
   "execution_count": 52,
   "metadata": {},
   "outputs": [],
   "source": [
    "sent_df.to_csv(\"edu_sentiment.csv\", index=False)"
   ]
  },
  {
   "cell_type": "code",
   "execution_count": 51,
   "metadata": {},
   "outputs": [
    {
     "data": {
      "text/plain": [
       "<Axes: xlabel='naive_bayes_cl', ylabel='count'>"
      ]
     },
     "execution_count": 51,
     "metadata": {},
     "output_type": "execute_result"
    },
    {
     "data": {
      "image/png": "[encoded data removed]",
      "text/plain": [
       "<Figure size 640x480 with 1 Axes>"
      ]
     },
     "metadata": {},
     "output_type": "display_data"
    }
   ],
   "source": [
    "sns.countplot(data=sent_df, x=sent_df['naive_bayes_cl'], hue='naive_bayes_cl')"
   ]
  }
 ],
 "metadata": {
  "kernelspec": {
   "display_name": "bigdata_opd",
   "language": "python",
   "name": "python3"
  },
  "language_info": {
   "codemirror_mode": {
    "name": "ipython",
    "version": 3
   },
   "file_extension": ".py",
   "mimetype": "text/x-python",
   "name": "python",
   "nbconvert_exporter": "python",
   "pygments_lexer": "ipython3",
   "version": "3.11.0"
  }
 },
 "nbformat": 4,
 "nbformat_minor": 2
}
